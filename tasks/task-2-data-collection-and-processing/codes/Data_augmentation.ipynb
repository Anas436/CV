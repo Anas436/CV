{
  "nbformat": 4,
  "nbformat_minor": 0,
  "metadata": {
    "colab": {
      "provenance": []
    },
    "kernelspec": {
      "name": "python3",
      "display_name": "Python 3"
    },
    "language_info": {
      "name": "python"
    }
  },
  "cells": [
    {
      "cell_type": "code",
      "source": [
        "from google.colab import drive"
      ],
      "metadata": {
        "id": "kPUcK1AZxuZD"
      },
      "execution_count": null,
      "outputs": []
    },
    {
      "cell_type": "code",
      "source": [
        "drive.mount(\"content/gdrive\")"
      ],
      "metadata": {
        "id": "e5wxaqsexvhl"
      },
      "execution_count": null,
      "outputs": []
    },
    {
      "cell_type": "code",
      "source": [
        "%cd /content/drive/MyDrive/Colab Notebooks/Dataset/RiceDiseases"
      ],
      "metadata": {
        "colab": {
          "base_uri": "https://localhost:8080/"
        },
        "id": "L_V71X2vx_4T",
        "outputId": "b96a6dab-ea6f-40b3-dfa7-d9db6aa169d5"
      },
      "execution_count": 9,
      "outputs": [
        {
          "output_type": "stream",
          "name": "stdout",
          "text": [
            "/content/drive/MyDrive/Colab Notebooks/Dataset/RiceDiseases\n"
          ]
        }
      ]
    },
    {
      "cell_type": "code",
      "source": [
        "dataset = '/content/drive/MyDrive/Colab Notebooks/Dataset/RiceDiseases'"
      ],
      "metadata": {
        "id": "IWF-ww4-xSRh"
      },
      "execution_count": 10,
      "outputs": []
    },
    {
      "cell_type": "code",
      "source": [
        "from keras.preprocessing.image import ImageDataGenerator\n",
        "import os\n",
        "import glob\n",
        "from PIL import Image"
      ],
      "metadata": {
        "id": "sx3Hrb7Q4Xcg"
      },
      "execution_count": 64,
      "outputs": []
    },
    {
      "cell_type": "code",
      "source": [
        "datagen = ImageDataGenerator(\n",
        "    rotation_range=20,\n",
        "    width_shift_range=0.2,\n",
        "    height_shift_range=0.2,\n",
        "    shear_range=0.2,\n",
        "    zoom_range=0.2,\n",
        "    horizontal_flip=True,\n",
        "    fill_mode='nearest'\n",
        ")"
      ],
      "metadata": {
        "id": "PoebF-dh4hW8"
      },
      "execution_count": 65,
      "outputs": []
    },
    {
      "cell_type": "code",
      "source": [
        "input_folder = dataset +'/ragged_stunt_virus_in'\n",
        "output_folder = dataset + '/grassy_stunt_virus'"
      ],
      "metadata": {
        "id": "HatO4c364kmK"
      },
      "execution_count": 94,
      "outputs": []
    },
    {
      "cell_type": "code",
      "source": [
        "# Create output folder if it doesn't exist\n",
        "if not os.path.exists(output_folder):\n",
        "    os.makedirs(output_folder)"
      ],
      "metadata": {
        "id": "bEupzmoJAuOq"
      },
      "execution_count": 88,
      "outputs": []
    },
    {
      "cell_type": "code",
      "source": [
        "image_files = glob.glob(input_folder + '/*')"
      ],
      "metadata": {
        "id": "vy0J9d2T5-CM"
      },
      "execution_count": 89,
      "outputs": []
    },
    {
      "cell_type": "code",
      "source": [
        "len(image_files)"
      ],
      "metadata": {
        "colab": {
          "base_uri": "https://localhost:8080/"
        },
        "id": "_-jaGec28BNM",
        "outputId": "756f42c8-8787-4bdd-8d03-0ca4def08da8"
      },
      "execution_count": 90,
      "outputs": [
        {
          "output_type": "execute_result",
          "data": {
            "text/plain": [
              "61"
            ]
          },
          "metadata": {},
          "execution_count": 90
        }
      ]
    },
    {
      "cell_type": "code",
      "source": [
        "for image_file in image_files:\n",
        "    img = load_img(image_file)\n",
        "    x = img_to_array(img)\n",
        "    x = x.reshape((1,) + x.shape)\n",
        "    i = 0\n",
        "    for batch in datagen.flow(x, batch_size=1, save_to_dir=output_folder, save_prefix='aug', save_format='jpeg'):\n",
        "        i += 1\n",
        "        if i >= 7:\n",
        "            break"
      ],
      "metadata": {
        "id": "MK44J71s6NoQ"
      },
      "execution_count": 91,
      "outputs": []
    },
    {
      "cell_type": "code",
      "source": [
        "len(glob.glob(output_folder + '/*'))"
      ],
      "metadata": {
        "colab": {
          "base_uri": "https://localhost:8080/"
        },
        "id": "2SPV4SSS7Cxo",
        "outputId": "6aa2d3b6-e6d6-49ca-9031-474f7dbdda3a"
      },
      "execution_count": 95,
      "outputs": [
        {
          "output_type": "execute_result",
          "data": {
            "text/plain": [
              "382"
            ]
          },
          "metadata": {},
          "execution_count": 95
        }
      ]
    },
    {
      "cell_type": "markdown",
      "source": [
        "Resize the generated images"
      ],
      "metadata": {
        "id": "TfmtLhui-yVb"
      }
    },
    {
      "cell_type": "code",
      "source": [
        "target_size = (224, 224)\n",
        "\n",
        "for filename in os.listdir(output_folder):\n",
        "    # Load the image and resize it\n",
        "    img = Image.open(os.path.join(output_folder, filename))\n",
        "    img_resized = img.resize(target_size)\n",
        "    # Save the resized image to the same folder with the same filename\n",
        "    img_resized.save(os.path.join(output_folder, filename))"
      ],
      "metadata": {
        "id": "r-EHiKOr9TEh"
      },
      "execution_count": 93,
      "outputs": []
    }
  ]
}